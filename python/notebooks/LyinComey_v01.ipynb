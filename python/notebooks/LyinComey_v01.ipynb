{
 "cells": [
  {
   "cell_type": "code",
   "execution_count": 1,
   "metadata": {
    "collapsed": true
   },
   "outputs": [],
   "source": [
    "import pickle\n",
    "import pandas as pd\n",
    "import numpy as np\n",
    "import matplotlib.pyplot as plt\n",
    "import os\n",
    "import json\n",
    "import re\n",
    "\n",
    "from scipy.fftpack import fft, rfft, fftfreq\n",
    "from scipy.io.wavfile import write\n",
    "from scipy import log10\n",
    "from pylab import *\n",
    "\n",
    "%matplotlib inline\n",
    "\n",
    "plt.rcParams[\"figure.figsize\"] = (12,9)"
   ]
  },
  {
   "cell_type": "code",
   "execution_count": 2,
   "metadata": {
    "collapsed": true
   },
   "outputs": [],
   "source": [
    "# write out to pickle file for future reference\n",
    "df = pickle.load(open( \"lyincomey.p\", \"rb\" ))"
   ]
  },
  {
   "cell_type": "code",
   "execution_count": 22,
   "metadata": {
    "collapsed": true
   },
   "outputs": [],
   "source": [
    "# setup patterns to remove emojis\n",
    "emoji_pattern=re.compile('[\\U0001F600-\\U0001F64F] # emoticons \\\n",
    "                                 |\\\n",
    "                                 [\\U0001F300-\\U0001F5FF] # symbols & pictographs\\\n",
    "                                 |\\\n",
    "                                 [\\U0001F680-\\U0001F6FF] # transport & map symbols\\\n",
    "                                 |\\\n",
    "                                 [\\U0001F1E0-\\U0001F1FF] # flags (iOS)\\\n",
    "                          ', re.VERBOSE)\n",
    "\n",
    "emojis = re.compile(\"[\"\n",
    "   u\"\\U0001F600-\\U0001F64F\"  # emoticons\n",
    "   u\"\\U0001F300-\\U0001F5FF\"  # symbols & pictographs\n",
    "   u\"\\U0001F680-\\U0001F6FF\"  # transport & map symbols\n",
    "   u\"\\U0001F1E0-\\U0001F1FF\"  # flags (iOS)\n",
    "   u\"\\U00002702-\\U000027B0\"\n",
    "   u\"\\U000024C2-\\U0001F251\"\n",
    "   \"]+\", flags=re.UNICODE)\n",
    "\n",
    "RE_EMOJI = re.compile('[\\U00010000-\\U0010ffff]', flags=re.UNICODE)\n"
   ]
  },
  {
   "cell_type": "code",
   "execution_count": 4,
   "metadata": {
    "collapsed": true
   },
   "outputs": [],
   "source": [
    "df['text'] = df['text'].apply(lambda x: RE_EMOJI.sub(r'', x))"
   ]
  },
  {
   "cell_type": "code",
   "execution_count": 6,
   "metadata": {},
   "outputs": [
    {
     "data": {
      "text/html": [
       "<div>\n",
       "<style>\n",
       "    .dataframe thead tr:only-child th {\n",
       "        text-align: right;\n",
       "    }\n",
       "\n",
       "    .dataframe thead th {\n",
       "        text-align: left;\n",
       "    }\n",
       "\n",
       "    .dataframe tbody tr th {\n",
       "        vertical-align: top;\n",
       "    }\n",
       "</style>\n",
       "<table border=\"1\" class=\"dataframe\">\n",
       "  <thead>\n",
       "    <tr style=\"text-align: right;\">\n",
       "      <th></th>\n",
       "      <th>contributors</th>\n",
       "      <th>coordinates</th>\n",
       "      <th>created_at</th>\n",
       "      <th>entities</th>\n",
       "      <th>extended_entities</th>\n",
       "      <th>favorite_count</th>\n",
       "      <th>favorited</th>\n",
       "      <th>geo</th>\n",
       "      <th>id</th>\n",
       "      <th>id_str</th>\n",
       "      <th>...</th>\n",
       "      <th>quoted_status_id</th>\n",
       "      <th>quoted_status_id_str</th>\n",
       "      <th>retweet_count</th>\n",
       "      <th>retweeted</th>\n",
       "      <th>retweeted_status</th>\n",
       "      <th>source</th>\n",
       "      <th>text</th>\n",
       "      <th>truncated</th>\n",
       "      <th>user</th>\n",
       "      <th>withheld_in_countries</th>\n",
       "    </tr>\n",
       "  </thead>\n",
       "  <tbody>\n",
       "    <tr>\n",
       "      <th>0</th>\n",
       "      <td>None</td>\n",
       "      <td>None</td>\n",
       "      <td>Tue Apr 17 14:59:37 +0000 2018</td>\n",
       "      <td>{'hashtags': [{'text': 'ComeyBaloney', 'indice...</td>\n",
       "      <td>NaN</td>\n",
       "      <td>0</td>\n",
       "      <td>False</td>\n",
       "      <td>None</td>\n",
       "      <td>986257883351408640</td>\n",
       "      <td>986257883351408640</td>\n",
       "      <td>...</td>\n",
       "      <td>NaN</td>\n",
       "      <td>NaN</td>\n",
       "      <td>33</td>\n",
       "      <td>False</td>\n",
       "      <td>{'created_at': 'Tue Apr 17 14:21:59 +0000 2018...</td>\n",
       "      <td>&lt;a href=\"http://twitter.com/#!/download/ipad\" ...</td>\n",
       "      <td>RT @LadyRedStorm: Ha SO True! \\n\\n#ComeyBalone...</td>\n",
       "      <td>False</td>\n",
       "      <td>{'id': 513876919, 'id_str': '513876919', 'name...</td>\n",
       "      <td>NaN</td>\n",
       "    </tr>\n",
       "    <tr>\n",
       "      <th>1</th>\n",
       "      <td>None</td>\n",
       "      <td>None</td>\n",
       "      <td>Tue Apr 17 14:59:36 +0000 2018</td>\n",
       "      <td>{'hashtags': [{'text': 'ComeyBaloney', 'indice...</td>\n",
       "      <td>NaN</td>\n",
       "      <td>0</td>\n",
       "      <td>False</td>\n",
       "      <td>None</td>\n",
       "      <td>986257876757991425</td>\n",
       "      <td>986257876757991425</td>\n",
       "      <td>...</td>\n",
       "      <td>NaN</td>\n",
       "      <td>NaN</td>\n",
       "      <td>33</td>\n",
       "      <td>False</td>\n",
       "      <td>{'created_at': 'Tue Apr 17 14:21:59 +0000 2018...</td>\n",
       "      <td>&lt;a href=\"http://twitter.com\" rel=\"nofollow\"&gt;Tw...</td>\n",
       "      <td>RT @LadyRedStorm: Ha SO True! \\n\\n#ComeyBalone...</td>\n",
       "      <td>False</td>\n",
       "      <td>{'id': 1241009113, 'id_str': '1241009113', 'na...</td>\n",
       "      <td>NaN</td>\n",
       "    </tr>\n",
       "    <tr>\n",
       "      <th>2</th>\n",
       "      <td>None</td>\n",
       "      <td>None</td>\n",
       "      <td>Tue Apr 17 14:58:18 +0000 2018</td>\n",
       "      <td>{'hashtags': [{'text': 'ComeyBaloney', 'indice...</td>\n",
       "      <td>NaN</td>\n",
       "      <td>0</td>\n",
       "      <td>False</td>\n",
       "      <td>None</td>\n",
       "      <td>986257551745519618</td>\n",
       "      <td>986257551745519618</td>\n",
       "      <td>...</td>\n",
       "      <td>NaN</td>\n",
       "      <td>NaN</td>\n",
       "      <td>33</td>\n",
       "      <td>False</td>\n",
       "      <td>{'created_at': 'Tue Apr 17 14:21:59 +0000 2018...</td>\n",
       "      <td>&lt;a href=\"http://twitter.com\" rel=\"nofollow\"&gt;Tw...</td>\n",
       "      <td>RT @LadyRedStorm: Ha SO True! \\n\\n#ComeyBalone...</td>\n",
       "      <td>False</td>\n",
       "      <td>{'id': 2823913560, 'id_str': '2823913560', 'na...</td>\n",
       "      <td>NaN</td>\n",
       "    </tr>\n",
       "    <tr>\n",
       "      <th>3</th>\n",
       "      <td>None</td>\n",
       "      <td>None</td>\n",
       "      <td>Tue Apr 17 14:56:06 +0000 2018</td>\n",
       "      <td>{'hashtags': [{'text': 'FBI', 'indices': [36, ...</td>\n",
       "      <td>NaN</td>\n",
       "      <td>0</td>\n",
       "      <td>False</td>\n",
       "      <td>None</td>\n",
       "      <td>986256997782818816</td>\n",
       "      <td>986256997782818816</td>\n",
       "      <td>...</td>\n",
       "      <td>NaN</td>\n",
       "      <td>NaN</td>\n",
       "      <td>8</td>\n",
       "      <td>False</td>\n",
       "      <td>{'created_at': 'Tue Apr 17 14:49:41 +0000 2018...</td>\n",
       "      <td>&lt;a href=\"http://twitter.com/download/iphone\" r...</td>\n",
       "      <td>RT @CuteScarley: Disgraced Partisan #FBI Agent...</td>\n",
       "      <td>False</td>\n",
       "      <td>{'id': 3291902538, 'id_str': '3291902538', 'na...</td>\n",
       "      <td>NaN</td>\n",
       "    </tr>\n",
       "    <tr>\n",
       "      <th>4</th>\n",
       "      <td>None</td>\n",
       "      <td>None</td>\n",
       "      <td>Tue Apr 17 14:55:35 +0000 2018</td>\n",
       "      <td>{'hashtags': [{'text': 'ComeyBaloney', 'indice...</td>\n",
       "      <td>NaN</td>\n",
       "      <td>0</td>\n",
       "      <td>False</td>\n",
       "      <td>None</td>\n",
       "      <td>986256867516211201</td>\n",
       "      <td>986256867516211201</td>\n",
       "      <td>...</td>\n",
       "      <td>NaN</td>\n",
       "      <td>NaN</td>\n",
       "      <td>33</td>\n",
       "      <td>False</td>\n",
       "      <td>{'created_at': 'Tue Apr 17 14:21:59 +0000 2018...</td>\n",
       "      <td>&lt;a href=\"http://twitter.com/download/iphone\" r...</td>\n",
       "      <td>RT @LadyRedStorm: Ha SO True! \\n\\n#ComeyBalone...</td>\n",
       "      <td>False</td>\n",
       "      <td>{'id': 860776572, 'id_str': '860776572', 'name...</td>\n",
       "      <td>NaN</td>\n",
       "    </tr>\n",
       "  </tbody>\n",
       "</table>\n",
       "<p>5 rows × 31 columns</p>\n",
       "</div>"
      ],
      "text/plain": [
       "  contributors coordinates                      created_at  \\\n",
       "0         None        None  Tue Apr 17 14:59:37 +0000 2018   \n",
       "1         None        None  Tue Apr 17 14:59:36 +0000 2018   \n",
       "2         None        None  Tue Apr 17 14:58:18 +0000 2018   \n",
       "3         None        None  Tue Apr 17 14:56:06 +0000 2018   \n",
       "4         None        None  Tue Apr 17 14:55:35 +0000 2018   \n",
       "\n",
       "                                            entities extended_entities  \\\n",
       "0  {'hashtags': [{'text': 'ComeyBaloney', 'indice...               NaN   \n",
       "1  {'hashtags': [{'text': 'ComeyBaloney', 'indice...               NaN   \n",
       "2  {'hashtags': [{'text': 'ComeyBaloney', 'indice...               NaN   \n",
       "3  {'hashtags': [{'text': 'FBI', 'indices': [36, ...               NaN   \n",
       "4  {'hashtags': [{'text': 'ComeyBaloney', 'indice...               NaN   \n",
       "\n",
       "   favorite_count  favorited   geo                  id              id_str  \\\n",
       "0               0      False  None  986257883351408640  986257883351408640   \n",
       "1               0      False  None  986257876757991425  986257876757991425   \n",
       "2               0      False  None  986257551745519618  986257551745519618   \n",
       "3               0      False  None  986256997782818816  986256997782818816   \n",
       "4               0      False  None  986256867516211201  986256867516211201   \n",
       "\n",
       "           ...          quoted_status_id quoted_status_id_str retweet_count  \\\n",
       "0          ...                       NaN                  NaN            33   \n",
       "1          ...                       NaN                  NaN            33   \n",
       "2          ...                       NaN                  NaN            33   \n",
       "3          ...                       NaN                  NaN             8   \n",
       "4          ...                       NaN                  NaN            33   \n",
       "\n",
       "  retweeted                                   retweeted_status  \\\n",
       "0     False  {'created_at': 'Tue Apr 17 14:21:59 +0000 2018...   \n",
       "1     False  {'created_at': 'Tue Apr 17 14:21:59 +0000 2018...   \n",
       "2     False  {'created_at': 'Tue Apr 17 14:21:59 +0000 2018...   \n",
       "3     False  {'created_at': 'Tue Apr 17 14:49:41 +0000 2018...   \n",
       "4     False  {'created_at': 'Tue Apr 17 14:21:59 +0000 2018...   \n",
       "\n",
       "                                              source  \\\n",
       "0  <a href=\"http://twitter.com/#!/download/ipad\" ...   \n",
       "1  <a href=\"http://twitter.com\" rel=\"nofollow\">Tw...   \n",
       "2  <a href=\"http://twitter.com\" rel=\"nofollow\">Tw...   \n",
       "3  <a href=\"http://twitter.com/download/iphone\" r...   \n",
       "4  <a href=\"http://twitter.com/download/iphone\" r...   \n",
       "\n",
       "                                                text truncated  \\\n",
       "0  RT @LadyRedStorm: Ha SO True! \\n\\n#ComeyBalone...     False   \n",
       "1  RT @LadyRedStorm: Ha SO True! \\n\\n#ComeyBalone...     False   \n",
       "2  RT @LadyRedStorm: Ha SO True! \\n\\n#ComeyBalone...     False   \n",
       "3  RT @CuteScarley: Disgraced Partisan #FBI Agent...     False   \n",
       "4  RT @LadyRedStorm: Ha SO True! \\n\\n#ComeyBalone...     False   \n",
       "\n",
       "                                                user withheld_in_countries  \n",
       "0  {'id': 513876919, 'id_str': '513876919', 'name...                   NaN  \n",
       "1  {'id': 1241009113, 'id_str': '1241009113', 'na...                   NaN  \n",
       "2  {'id': 2823913560, 'id_str': '2823913560', 'na...                   NaN  \n",
       "3  {'id': 3291902538, 'id_str': '3291902538', 'na...                   NaN  \n",
       "4  {'id': 860776572, 'id_str': '860776572', 'name...                   NaN  \n",
       "\n",
       "[5 rows x 31 columns]"
      ]
     },
     "execution_count": 6,
     "metadata": {},
     "output_type": "execute_result"
    }
   ],
   "source": [
    "# This is where you could pull out only the columns of the dataframe that you care about currently\n",
    "df.head()"
   ]
  },
  {
   "cell_type": "code",
   "execution_count": 11,
   "metadata": {},
   "outputs": [],
   "source": [
    "allcolumns = df.columns"
   ]
  },
  {
   "cell_type": "code",
   "execution_count": 17,
   "metadata": {},
   "outputs": [
    {
     "data": {
      "text/plain": [
       "31"
      ]
     },
     "execution_count": 17,
     "metadata": {},
     "output_type": "execute_result"
    }
   ],
   "source": [
    "len(allcolumns)"
   ]
  },
  {
   "cell_type": "code",
   "execution_count": 18,
   "metadata": {},
   "outputs": [
    {
     "name": "stdout",
     "output_type": "stream",
     "text": [
      "contributors\n",
      "coordinates\n",
      "created_at\n",
      "entities\n",
      "extended_entities\n",
      "favorite_count\n",
      "favorited\n",
      "geo\n",
      "id\n",
      "id_str\n",
      "in_reply_to_screen_name\n",
      "in_reply_to_status_id\n",
      "in_reply_to_status_id_str\n",
      "in_reply_to_user_id\n",
      "in_reply_to_user_id_str\n",
      "is_quote_status\n",
      "lang\n",
      "metadata\n",
      "place\n",
      "possibly_sensitive\n",
      "quoted_status\n",
      "quoted_status_id\n",
      "quoted_status_id_str\n",
      "retweet_count\n",
      "retweeted\n",
      "retweeted_status\n",
      "source\n",
      "text\n",
      "truncated\n",
      "user\n",
      "withheld_in_countries\n"
     ]
    }
   ],
   "source": [
    "for col in allcolumns:\n",
    "    print(col)"
   ]
  },
  {
   "cell_type": "code",
   "execution_count": 24,
   "metadata": {},
   "outputs": [
    {
     "ename": "TypeError",
     "evalue": "expected string or bytes-like object",
     "output_type": "error",
     "traceback": [
      "\u001b[0;31m---------------------------------------------------------------------------\u001b[0m",
      "\u001b[0;31mTypeError\u001b[0m                                 Traceback (most recent call last)",
      "\u001b[0;32m<ipython-input-24-c5fe2b85c7f0>\u001b[0m in \u001b[0;36m<module>\u001b[0;34m()\u001b[0m\n\u001b[1;32m      1\u001b[0m \u001b[0;32mfor\u001b[0m \u001b[0mcol\u001b[0m \u001b[0;32min\u001b[0m \u001b[0mallcolumns\u001b[0m\u001b[0;34m:\u001b[0m\u001b[0;34m\u001b[0m\u001b[0m\n\u001b[0;32m----> 2\u001b[0;31m     \u001b[0mdf\u001b[0m\u001b[0;34m[\u001b[0m\u001b[0mcol\u001b[0m\u001b[0;34m]\u001b[0m \u001b[0;34m=\u001b[0m \u001b[0mdf\u001b[0m\u001b[0;34m[\u001b[0m\u001b[0mcol\u001b[0m\u001b[0;34m]\u001b[0m\u001b[0;34m.\u001b[0m\u001b[0mapply\u001b[0m\u001b[0;34m(\u001b[0m\u001b[0;32mlambda\u001b[0m \u001b[0mx\u001b[0m\u001b[0;34m:\u001b[0m \u001b[0memojis\u001b[0m\u001b[0;34m.\u001b[0m\u001b[0msub\u001b[0m\u001b[0;34m(\u001b[0m\u001b[0;34m''\u001b[0m\u001b[0;34m,\u001b[0m \u001b[0mx\u001b[0m\u001b[0;34m)\u001b[0m\u001b[0;34m)\u001b[0m\u001b[0;34m\u001b[0m\u001b[0m\n\u001b[0m",
      "\u001b[0;32m~/anaconda3/lib/python3.6/site-packages/pandas/core/series.py\u001b[0m in \u001b[0;36mapply\u001b[0;34m(self, func, convert_dtype, args, **kwds)\u001b[0m\n\u001b[1;32m   2353\u001b[0m             \u001b[0;32melse\u001b[0m\u001b[0;34m:\u001b[0m\u001b[0;34m\u001b[0m\u001b[0m\n\u001b[1;32m   2354\u001b[0m                 \u001b[0mvalues\u001b[0m \u001b[0;34m=\u001b[0m \u001b[0mself\u001b[0m\u001b[0;34m.\u001b[0m\u001b[0masobject\u001b[0m\u001b[0;34m\u001b[0m\u001b[0m\n\u001b[0;32m-> 2355\u001b[0;31m                 \u001b[0mmapped\u001b[0m \u001b[0;34m=\u001b[0m \u001b[0mlib\u001b[0m\u001b[0;34m.\u001b[0m\u001b[0mmap_infer\u001b[0m\u001b[0;34m(\u001b[0m\u001b[0mvalues\u001b[0m\u001b[0;34m,\u001b[0m \u001b[0mf\u001b[0m\u001b[0;34m,\u001b[0m \u001b[0mconvert\u001b[0m\u001b[0;34m=\u001b[0m\u001b[0mconvert_dtype\u001b[0m\u001b[0;34m)\u001b[0m\u001b[0;34m\u001b[0m\u001b[0m\n\u001b[0m\u001b[1;32m   2356\u001b[0m \u001b[0;34m\u001b[0m\u001b[0m\n\u001b[1;32m   2357\u001b[0m         \u001b[0;32mif\u001b[0m \u001b[0mlen\u001b[0m\u001b[0;34m(\u001b[0m\u001b[0mmapped\u001b[0m\u001b[0;34m)\u001b[0m \u001b[0;32mand\u001b[0m \u001b[0misinstance\u001b[0m\u001b[0;34m(\u001b[0m\u001b[0mmapped\u001b[0m\u001b[0;34m[\u001b[0m\u001b[0;36m0\u001b[0m\u001b[0;34m]\u001b[0m\u001b[0;34m,\u001b[0m \u001b[0mSeries\u001b[0m\u001b[0;34m)\u001b[0m\u001b[0;34m:\u001b[0m\u001b[0;34m\u001b[0m\u001b[0m\n",
      "\u001b[0;32mpandas/_libs/src/inference.pyx\u001b[0m in \u001b[0;36mpandas._libs.lib.map_infer\u001b[0;34m()\u001b[0m\n",
      "\u001b[0;32m<ipython-input-24-c5fe2b85c7f0>\u001b[0m in \u001b[0;36m<lambda>\u001b[0;34m(x)\u001b[0m\n\u001b[1;32m      1\u001b[0m \u001b[0;32mfor\u001b[0m \u001b[0mcol\u001b[0m \u001b[0;32min\u001b[0m \u001b[0mallcolumns\u001b[0m\u001b[0;34m:\u001b[0m\u001b[0;34m\u001b[0m\u001b[0m\n\u001b[0;32m----> 2\u001b[0;31m     \u001b[0mdf\u001b[0m\u001b[0;34m[\u001b[0m\u001b[0mcol\u001b[0m\u001b[0;34m]\u001b[0m \u001b[0;34m=\u001b[0m \u001b[0mdf\u001b[0m\u001b[0;34m[\u001b[0m\u001b[0mcol\u001b[0m\u001b[0;34m]\u001b[0m\u001b[0;34m.\u001b[0m\u001b[0mapply\u001b[0m\u001b[0;34m(\u001b[0m\u001b[0;32mlambda\u001b[0m \u001b[0mx\u001b[0m\u001b[0;34m:\u001b[0m \u001b[0memojis\u001b[0m\u001b[0;34m.\u001b[0m\u001b[0msub\u001b[0m\u001b[0;34m(\u001b[0m\u001b[0;34m''\u001b[0m\u001b[0;34m,\u001b[0m \u001b[0mx\u001b[0m\u001b[0;34m)\u001b[0m\u001b[0;34m)\u001b[0m\u001b[0;34m\u001b[0m\u001b[0m\n\u001b[0m",
      "\u001b[0;31mTypeError\u001b[0m: expected string or bytes-like object"
     ]
    }
   ],
   "source": [
    "for col in allcolumns:\n",
    "    df[col] = df[col].apply(lambda x: emojis.sub('', x))"
   ]
  },
  {
   "cell_type": "code",
   "execution_count": 22,
   "metadata": {
    "collapsed": true
   },
   "outputs": [],
   "source": [
    "# write out csv file of all data\n",
    "df.to_csv('lyincomey_aggregate_noemoji.csv')"
   ]
  },
  {
   "cell_type": "code",
   "execution_count": null,
   "metadata": {
    "collapsed": true
   },
   "outputs": [],
   "source": []
  }
 ],
 "metadata": {
  "kernelspec": {
   "display_name": "Python 3",
   "language": "python",
   "name": "python3"
  },
  "language_info": {
   "codemirror_mode": {
    "name": "ipython",
    "version": 3
   },
   "file_extension": ".py",
   "mimetype": "text/x-python",
   "name": "python",
   "nbconvert_exporter": "python",
   "pygments_lexer": "ipython3",
   "version": "3.6.3"
  }
 },
 "nbformat": 4,
 "nbformat_minor": 2
}
